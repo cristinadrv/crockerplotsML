{
 "cells": [
  {
   "cell_type": "code",
   "execution_count": 1,
   "id": "c533b837-ad8e-4fec-a94d-5c6d6178f61e",
   "metadata": {},
   "outputs": [],
   "source": [
    "import numpy as np\n",
    "import pandas as pd\n",
    "import os\n",
    "import matplotlib.pyplot as plt\n",
    "import itertools\n",
    "#import umap"
   ]
  },
  {
   "cell_type": "code",
   "execution_count": 2,
   "id": "1c169f44-192d-47f7-9239-a56e410f93f5",
   "metadata": {},
   "outputs": [],
   "source": [
    "#FUNCIÓN: lee los .csv y los agrupa por ID (cada evacuación) y crea entonces una lista de lista de las matrices\n",
    "def descargar_matrices_por_id(ruta_carpeta):\n",
    "    id_dict = {}  # Diccionario para agrupar por ID\n",
    "\n",
    "    for archivo in os.listdir(ruta_carpeta):\n",
    "        if archivo.endswith('.csv'):   #coger solo los b0\n",
    "            partes = archivo.split('_') \n",
    "            if len(partes) < 2:\n",
    "                continue  # Saltar si no tiene el formato esperado\n",
    "\n",
    "            id_str = partes[1]  # El ID es el segundo bloque: mb0_000101_2.csv\n",
    "\n",
    "            if id_str not in id_dict:\n",
    "                id_dict[id_str] = []\n",
    "\n",
    "            ruta_archivo = os.path.join(ruta_carpeta, archivo)\n",
    "            df = pd.read_csv(ruta_archivo, skiprows=1, header=None)\n",
    "            id_dict[id_str].append(df.values)\n",
    "\n",
    "    # Convertir a lista de listas ordenadas por ID\n",
    "    ids_ordenados = sorted(id_dict.keys())\n",
    "    lista_de_listas = [id_dict[k] for k in ids_ordenados]\n",
    "\n",
    "    return lista_de_listas"
   ]
  },
  {
   "cell_type": "markdown",
   "id": "e23d53a3-fe06-4a6f-b076-0ebf08d4ad64",
   "metadata": {},
   "source": [
    "### Descargar matrices"
   ]
  },
  {
   "cell_type": "code",
   "execution_count": 3,
   "id": "d9ec176e-2d06-4fc8-b22d-7ce40a0c4e5b",
   "metadata": {},
   "outputs": [],
   "source": [
    "#empujando = 0\n",
    "#sin empujar = 1\n",
    "ruta_0 = './b0_empujando_100'\n",
    "ruta_1 = './b0_sin_empujar_100'\n",
    "\n",
    "lista_0 = descargar_matrices_por_id(ruta_0)\n",
    "lista_1 = descargar_matrices_por_id(ruta_1)"
   ]
  },
  {
   "cell_type": "markdown",
   "id": "bd62b0fa-476f-41ab-b956-a93fdb25dd36",
   "metadata": {},
   "source": [
    "### Separamos train y test"
   ]
  },
  {
   "cell_type": "code",
   "execution_count": 4,
   "id": "0ee3555c-c356-4472-aed3-c55d5b5c23bb",
   "metadata": {},
   "outputs": [],
   "source": [
    "#separamos manualmente\n",
    "idx_train_0 = [2,0]\n",
    "idx_test_0 = [1]\n",
    "\n",
    "idx_train_1 = [2,0]\n",
    "idx_test_1 = [1]"
   ]
  },
  {
   "cell_type": "code",
   "execution_count": 5,
   "id": "bd4ee126-105c-4a83-9391-7cade04f1388",
   "metadata": {},
   "outputs": [],
   "source": [
    "#FUNCIÓN: unificamos las listas que nos interesa y convertimos a arrays\n",
    "def convertir_lista_array(lista,idx):\n",
    "    \n",
    "    np.random.seed(42) \n",
    "    train =  [lista[i] for i in idx]                  #nos quedamos con los indices que queremos de la lista\n",
    "    lista_train = list(itertools.chain.from_iterable(train))        #unificamos los arrays en una sola lista\n",
    "    array_train = np.array(lista_train)          #convertimos a array\n",
    "    #np.random.shuffle(array_train)   #mezclar los frames\n",
    "\n",
    "    return array_train"
   ]
  },
  {
   "cell_type": "code",
   "execution_count": 6,
   "id": "95320802-1e63-4f9c-b5cb-c74723bc2395",
   "metadata": {},
   "outputs": [
    {
     "name": "stdout",
     "output_type": "stream",
     "text": [
      "train: (2795, 50, 20) (2410, 50, 20)\n",
      "test: (1440, 50, 20) (1086, 50, 20)\n"
     ]
    }
   ],
   "source": [
    "array_train_0 = convertir_lista_array(lista_0,idx_train_0)\n",
    "array_train_1 = convertir_lista_array(lista_1,idx_train_1)\n",
    "array_test_0 = convertir_lista_array(lista_0,idx_test_0)\n",
    "array_test_1 = convertir_lista_array(lista_1,idx_test_1)\n",
    "\n",
    "print('train:',array_train_0.shape,array_train_1.shape)\n",
    "print('test:',array_test_0.shape,array_test_1.shape)"
   ]
  },
  {
   "cell_type": "code",
   "execution_count": 7,
   "id": "e586e271-1463-4038-98e9-81ee6538cbe6",
   "metadata": {},
   "outputs": [
    {
     "name": "stdout",
     "output_type": "stream",
     "text": [
      "train: (2410, 50, 20) (2410, 50, 20)\n",
      "test: (1086, 50, 20) (1086, 50, 20)\n"
     ]
    }
   ],
   "source": [
    "#balancear el conjunto de datos para que ambas clases (0 y 1) tengan el mismo número de muestras tanto en entrenamiento como en test. \n",
    "np.random.seed(42)\n",
    "\n",
    "n_train = len(array_train_1)  #numero de muestras\n",
    "n_test = len(array_test_1) \n",
    "\n",
    "# Elegir el mismo num de matrices con índices aleatorios de la clase mayoritaria\n",
    "idx_train_0 = np.random.choice(array_train_0.shape[0], size=n_train, replace=False)\n",
    "idx_test_0 = np.random.choice(array_test_0.shape[0], size=n_test, replace=False)\n",
    "\n",
    "# Subconjuntos balanceados\n",
    "datos_train_0 = array_train_0[idx_train_0]\n",
    "datos_train_1 = array_train_1\n",
    "\n",
    "datos_test_0 = array_test_0[idx_test_0]\n",
    "datos_test_1 = array_test_1\n",
    "\n",
    "print('train:',datos_train_0.shape,datos_train_1.shape)\n",
    "print('test:',datos_test_0.shape,datos_test_1.shape)"
   ]
  },
  {
   "cell_type": "markdown",
   "id": "fa9d4dec-322f-4447-8c02-29de64d4ce65",
   "metadata": {},
   "source": [
    "### Convertimos a vectores"
   ]
  },
  {
   "cell_type": "code",
   "execution_count": 8,
   "id": "f546aaec-558e-4e29-9544-75345270cc3b",
   "metadata": {},
   "outputs": [],
   "source": [
    "#pasa de matriz a vectores formando una sola matriz donde cada fila es una evacuacion de 4 segundos\n",
    "matriz_train_0 = datos_train_0.reshape((n_train,-1))            #-1 calcula la dimension automaticamente\n",
    "matriz_train_1 = datos_train_1.reshape((n_train,-1))\n",
    "    \n",
    "matriz_test_0 = datos_test_0.reshape((n_test,-1))            \n",
    "matriz_test_1 = datos_test_1.reshape((n_test,-1))"
   ]
  },
  {
   "cell_type": "code",
   "execution_count": 9,
   "id": "84630b38-a247-4807-ad11-3ebff0edf3fe",
   "metadata": {},
   "outputs": [
    {
     "data": {
      "text/plain": [
       "((2410,), (2410,))"
      ]
     },
     "execution_count": 9,
     "metadata": {},
     "output_type": "execute_result"
    }
   ],
   "source": [
    "#creamos los labels\n",
    "labels_train_0 = np.array([0]*n_train)\n",
    "labels_train_1 = np.array([1]*n_train)\n",
    "\n",
    "labels_test_0 = np.array([0]*n_test)\n",
    "labels_test_1 = np.array([1]*n_test)\n",
    "\n",
    "(labels_train_0.shape, labels_train_1.shape)"
   ]
  },
  {
   "cell_type": "code",
   "execution_count": 10,
   "id": "bd34ba72-125f-4f1a-8daa-53cb0125b2b3",
   "metadata": {},
   "outputs": [
    {
     "name": "stdout",
     "output_type": "stream",
     "text": [
      "train: (4820, 1000) (4820,)\n",
      "test: (2172, 1000) (2172,)\n"
     ]
    }
   ],
   "source": [
    "X_train = np.concatenate((matriz_train_0, matriz_train_1), axis=0)  \n",
    "y_train = np.concatenate((labels_train_0, labels_train_1), axis=0) \n",
    "\n",
    "X_test = np.concatenate((matriz_test_0, matriz_test_1), axis=0)  \n",
    "y_test = np.concatenate((labels_test_0, labels_test_1), axis=0) \n",
    "\n",
    "print('train:',X_train.shape, y_train.shape)\n",
    "print('test:',X_test.shape, y_test.shape)"
   ]
  },
  {
   "cell_type": "code",
   "execution_count": 11,
   "id": "7a97b7e3-77aa-45e4-a5a3-d1d4e45a0fd7",
   "metadata": {},
   "outputs": [],
   "source": [
    "from sklearn.utils import shuffle\n",
    "\n",
    "# Mezclar entrenamiento\n",
    "X_train, y_train = shuffle(X_train, y_train, random_state=42)\n",
    "\n",
    "# Mezclar test\n",
    "X_test, y_test = shuffle(X_test, y_test, random_state=42)"
   ]
  },
  {
   "cell_type": "markdown",
   "id": "4da71433-1215-4645-85d1-89817ef5f174",
   "metadata": {},
   "source": [
    "### Normalizamos"
   ]
  },
  {
   "cell_type": "code",
   "execution_count": 12,
   "id": "bec0236b-a7e8-4ab1-b991-b91e60076592",
   "metadata": {},
   "outputs": [],
   "source": [
    "#normalizamos\n",
    "from sklearn.preprocessing import StandardScaler\n",
    "\n",
    "scaler = StandardScaler()\n",
    "X_train_norm = scaler.fit_transform(X_train)   # Ajusta y transforma solo sobre train\n",
    "X_test_norm = scaler.transform(X_test)         # Transforma test con el mismo scaler"
   ]
  },
  {
   "cell_type": "markdown",
   "id": "e0b5d376-4189-4817-97ff-664b04cefd94",
   "metadata": {},
   "source": [
    "# MODELOS: No supervisados"
   ]
  },
  {
   "cell_type": "markdown",
   "id": "8118871d-fa97-4a61-9e1c-590b2f2f40cf",
   "metadata": {},
   "source": [
    "## PCA"
   ]
  },
  {
   "cell_type": "code",
   "execution_count": 13,
   "id": "a38e22ae-332a-40da-9845-5d6dc4459bb8",
   "metadata": {},
   "outputs": [],
   "source": [
    "from sklearn.decomposition import PCA\n",
    "\n",
    "pca = PCA(n_components=2)\n",
    "pca.fit(X_train_norm)\n",
    "\n",
    "X_train_pca = pca.transform(X_train_norm)\n",
    "X_test_pca = pca.transform(X_test_norm)\n"
   ]
  },
  {
   "cell_type": "code",
   "execution_count": 14,
   "id": "882fc3ac-2a57-4439-afe4-999b658aaf93",
   "metadata": {},
   "outputs": [
    {
     "data": {
      "image/png": "[encoded data removed]",
      "text/plain": [
       "<Figure size 800x600 with 1 Axes>"
      ]
     },
     "metadata": {},
     "output_type": "display_data"
    }
   ],
   "source": [
    "plt.figure(figsize=(8,6))\n",
    "\n",
    "# Train clase 0\n",
    "plt.scatter(\n",
    "    X_train_pca[y_train == 0, 0], \n",
    "    X_train_pca[y_train == 0, 1], \n",
    "    label='Train Clase 0', alpha=0.7, edgecolors='b', s=10\n",
    ")\n",
    "\n",
    "# Train clase 1\n",
    "plt.scatter(\n",
    "    X_train_pca[y_train == 1, 0], \n",
    "    X_train_pca[y_train == 1, 1], \n",
    "    label='Train Clase 1', alpha=0.7, edgecolors='r', s=10\n",
    ")\n",
    "\n",
    "plt.xlabel('Componente principal 1')\n",
    "plt.ylabel('Componente principal 2')\n",
    "plt.title('Proyección PCA de los datos de entrenamiento y test')\n",
    "plt.legend()\n",
    "plt.grid(True)\n",
    "plt.show()\n"
   ]
  },
  {
   "cell_type": "code",
   "execution_count": 15,
   "id": "c9731a00-4d24-4ebd-9238-cfe877f0169e",
   "metadata": {},
   "outputs": [
    {
     "name": "stdout",
     "output_type": "stream",
     "text": [
      "Varianza explicada por cada componente:\n",
      "[0.43609373 0.0769068 ]\n"
     ]
    }
   ],
   "source": [
    "#print(pca.components_)\n",
    "print(\"Varianza explicada por cada componente:\")\n",
    "print(pca.explained_variance_ratio_)"
   ]
  },
  {
   "cell_type": "markdown",
   "id": "79969b0d-0cc3-4444-8756-4631bbab3013",
   "metadata": {},
   "source": [
    "## UMAP"
   ]
  },
  {
   "cell_type": "raw",
   "id": "57a5121c-cd2d-412b-9be7-39a914a9fb6e",
   "metadata": {},
   "source": [
    "\n",
    "reductor = umap.UMAP(n_components=2, random_state=42)\n",
    "X_train_umap = reductor.fit_transform(X_train_norm)  \n",
    "X_test_umap = reductor.transform(X_test_norm)  \n",
    "\n",
    "plt.figure(figsize=(8,6))\n",
    "\n",
    "plt.scatter(X_train_umap[y_train == 0, 0], X_train_umap[y_train == 0, 1], label='Clase 0', alpha=0.7, s=10)\n",
    "plt.scatter(X_train_umap[y_train == 1, 0], X_train_umap[y_train == 1, 1], label='Clase 1', alpha=0.7, s=10)\n",
    "plt.title(\"Proyección UMAP de los datos\")\n",
    "plt.legend()\n",
    "plt.grid(True)\n",
    "plt.show()\n"
   ]
  },
  {
   "cell_type": "markdown",
   "id": "f8679bfb-5c79-4b82-9342-c9c6cf9e5b07",
   "metadata": {},
   "source": [
    "## K-means"
   ]
  },
  {
   "cell_type": "code",
   "execution_count": 16,
   "id": "90135684-3c62-4ea5-8f70-b331616d618a",
   "metadata": {},
   "outputs": [
    {
     "name": "stdout",
     "output_type": "stream",
     "text": [
      "Accuracy K-Means: 87.48%\n"
     ]
    }
   ],
   "source": [
    "from sklearn.cluster import KMeans\n",
    "from sklearn.metrics import accuracy_score\n",
    "from scipy.stats import mode\n",
    "\n",
    "# Elegimos 2 clusters porque tenemos 2 clases\n",
    "kmeans = KMeans(n_clusters=2, random_state=42)\n",
    "kmeans.fit(X_train_norm)\n",
    "\n",
    "# Predicciones (etiquetas de cluster)\n",
    "y_pred_cluster = kmeans.predict(X_test_norm)\n",
    "\n",
    "# Como KMeans asigna etiquetas arbitrarias (0 o 1 sin relación con tus clases reales),\n",
    "# necesitamos hacer una asignación \"inteligente\":\n",
    "def ajustar_etiquetas(pred, true):\n",
    "    labels = np.zeros_like(pred)\n",
    "    for i in np.unique(pred):\n",
    "        mask = pred == i\n",
    "        labels[mask] = mode(true[mask])[0]\n",
    "    return labels\n",
    "\n",
    "y_pred_ajustado = ajustar_etiquetas(y_pred_cluster, y_test)\n",
    "\n",
    "# Medimos la precisión\n",
    "accuracy_kmeans = accuracy_score(y_test, y_pred_ajustado)\n",
    "print(f\"Accuracy K-Means: {accuracy_kmeans * 100:.2f}%\")\n"
   ]
  },
  {
   "cell_type": "markdown",
   "id": "76637f4e-94f2-4301-9929-ec5eae739e13",
   "metadata": {},
   "source": [
    "# MODELOS: Supervisados"
   ]
  },
  {
   "cell_type": "markdown",
   "id": "33fde48a-f003-4924-8e08-10dafdf16509",
   "metadata": {},
   "source": [
    "## Logistic regression"
   ]
  },
  {
   "cell_type": "code",
   "execution_count": 17,
   "id": "91460ac4-3ecc-4d3f-8627-27c713288560",
   "metadata": {},
   "outputs": [
    {
     "name": "stdout",
     "output_type": "stream",
     "text": [
      "Accuracy_LR: 92.45%\n"
     ]
    }
   ],
   "source": [
    "from sklearn.linear_model import LogisticRegression\n",
    "from sklearn.metrics import accuracy_score\n",
    "\n",
    "model1 = LogisticRegression(random_state=42) \n",
    "\n",
    "model1.fit(X_train_norm, y_train)\n",
    "\n",
    "y_pred = model1.predict(X_test_norm)\n",
    "\n",
    "accuracy_LR = accuracy_score(y_test, y_pred)\n",
    "\n",
    "print(f\"Accuracy_LR: {accuracy_LR * 100:.2f}%\")"
   ]
  },
  {
   "cell_type": "code",
   "execution_count": 18,
   "id": "dbc76454-53c2-47c6-859c-08d4b3404881",
   "metadata": {},
   "outputs": [
    {
     "name": "stdout",
     "output_type": "stream",
     "text": [
      "Accuracy_LR con PCA: 84.94%\n"
     ]
    }
   ],
   "source": [
    "#con PCA:\n",
    "\n",
    "model1 = LogisticRegression(random_state=42)\n",
    "\n",
    "# Entrenar con datos transformados por PCA\n",
    "model1.fit(X_train_pca, y_train)\n",
    "\n",
    "# Predecir con datos transformados por PCA\n",
    "y_pred = model1.predict(X_test_pca)\n",
    "\n",
    "accuracy_LR_pca = accuracy_score(y_test, y_pred)\n",
    "\n",
    "print(f\"Accuracy_LR con PCA: {accuracy_LR_pca * 100:.2f}%\")\n"
   ]
  },
  {
   "cell_type": "raw",
   "id": "532a5431-e4af-4453-aac2-c122f3ae8f57",
   "metadata": {},
   "source": [
    "#con UMAP\n",
    "\n",
    "model1_umap = LogisticRegression(random_state=42)\n",
    "model1_umap.fit(X_train_umap, y_train)\n",
    "y_pred_umap_LR = model1_umap.predict(X_test_umap)\n",
    "\n",
    "accuracy_LR_umap = accuracy_score(y_test, y_pred_umap_LR)\n",
    "print(f\"Accuracy_LR (UMAP): {accuracy_LR_umap * 100:.2f}%\")"
   ]
  },
  {
   "cell_type": "markdown",
   "id": "de5cfa8b-fb12-440a-93ee-9306da5b43c7",
   "metadata": {},
   "source": [
    "## Random Forest"
   ]
  },
  {
   "cell_type": "code",
   "execution_count": 19,
   "id": "6011c171-6c87-4858-9e16-e2ea3975d876",
   "metadata": {},
   "outputs": [
    {
     "name": "stdout",
     "output_type": "stream",
     "text": [
      "Accuracy_RF: 86.37%\n"
     ]
    }
   ],
   "source": [
    "from sklearn.ensemble import RandomForestClassifier\n",
    "model2 = RandomForestClassifier(n_estimators = 30,random_state=42)\n",
    "\n",
    "model2.fit(X_train_norm, y_train)\n",
    "y_pred2 = model2.predict(X_test_norm)\n",
    "accuracy_RF = accuracy_score(y_test, y_pred2)\n",
    "\n",
    "print(f\"Accuracy_RF: {accuracy_RF * 100:.2f}%\")"
   ]
  },
  {
   "cell_type": "code",
   "execution_count": 20,
   "id": "a9939083-09ff-4d8d-b714-462cf6d32e3d",
   "metadata": {},
   "outputs": [
    {
     "name": "stdout",
     "output_type": "stream",
     "text": [
      "Accuracy_RF con PCA: 75.41%\n"
     ]
    }
   ],
   "source": [
    "#con PCA\n",
    "\n",
    "model2 = RandomForestClassifier(n_estimators=30, random_state=42)\n",
    "\n",
    "# Entrenar con datos PCA\n",
    "model2.fit(X_train_pca, y_train)\n",
    "\n",
    "# Predecir con datos PCA\n",
    "y_pred2 = model2.predict(X_test_pca)\n",
    "\n",
    "accuracy_RF_pca = accuracy_score(y_test, y_pred2)\n",
    "\n",
    "print(f\"Accuracy_RF con PCA: {accuracy_RF_pca * 100:.2f}%\")"
   ]
  },
  {
   "cell_type": "raw",
   "id": "c806fdfa-e153-484e-bc1c-9c079eb421d9",
   "metadata": {},
   "source": [
    "#con UMAP\n",
    "\n",
    "model2_umap = RandomForestClassifier(n_estimators=30, random_state=42)\n",
    "model2_umap.fit(X_train_umap, y_train)\n",
    "y_pred_umap_RF = model2_umap.predict(X_test_umap)\n",
    "\n",
    "accuracy_RF_umap = accuracy_score(y_test, y_pred_umap_RF)\n",
    "print(f\"Accuracy_RF (UMAP): {accuracy_RF_umap * 100:.2f}%\")"
   ]
  },
  {
   "cell_type": "markdown",
   "id": "2fc17e19-9813-4c6e-a1b7-4d729d2482ef",
   "metadata": {},
   "source": [
    "## KNeighbors"
   ]
  },
  {
   "cell_type": "code",
   "execution_count": 21,
   "id": "86410a1e-d9b9-4128-876e-d717d02c41d3",
   "metadata": {},
   "outputs": [
    {
     "name": "stdout",
     "output_type": "stream",
     "text": [
      "Accuracy_KN: 90.75%\n"
     ]
    }
   ],
   "source": [
    "from sklearn.neighbors import KNeighborsClassifier\n",
    "model3 = KNeighborsClassifier(n_neighbors=3)\n",
    "\n",
    "model3.fit(X_train_norm, y_train)\n",
    "y_pred3 = model3.predict(X_test_norm)\n",
    "\n",
    "accuracy_KN = accuracy_score(y_test, y_pred3)\n",
    "print(f\"Accuracy_KN: {accuracy_KN * 100:.2f}%\")"
   ]
  },
  {
   "cell_type": "code",
   "execution_count": 22,
   "id": "720de1d9-5566-42b9-93c9-1fc10bd0962a",
   "metadata": {},
   "outputs": [
    {
     "name": "stdout",
     "output_type": "stream",
     "text": [
      "Accuracy_KN con PCA: 74.95%\n"
     ]
    }
   ],
   "source": [
    "#con PCA\n",
    "\n",
    "model3 = KNeighborsClassifier(n_neighbors=3)\n",
    "\n",
    "# Entrenar con datos PCA\n",
    "model3.fit(X_train_pca, y_train)\n",
    "\n",
    "# Predecir con datos PCA\n",
    "y_pred3 = model3.predict(X_test_pca)\n",
    "\n",
    "accuracy_KN_pca = accuracy_score(y_test, y_pred3)\n",
    "print(f\"Accuracy_KN con PCA: {accuracy_KN_pca * 100:.2f}%\")"
   ]
  },
  {
   "cell_type": "raw",
   "id": "aedc82d4-3756-43f9-8edb-4efd0e5d3e88",
   "metadata": {},
   "source": [
    "#con UMAP\n",
    "\n",
    "model3_umap = KNeighborsClassifier(n_neighbors=3)\n",
    "model3_umap.fit(X_train_umap, y_train)\n",
    "y_pred_umap_KN = model3_umap.predict(X_test_umap)\n",
    "\n",
    "accuracy_KN_umap = accuracy_score(y_test, y_pred_umap_KN)\n",
    "print(f\"Accuracy_KN (UMAP): {accuracy_KN_umap * 100:.2f}%\")"
   ]
  },
  {
   "cell_type": "markdown",
   "id": "9476c02d-1475-4152-9a56-7dc24b40a27d",
   "metadata": {},
   "source": [
    "## Linear Discriminant Analysis"
   ]
  },
  {
   "cell_type": "code",
   "execution_count": 23,
   "id": "dbbfa0b9-7c05-4f63-a098-f5c395fe8128",
   "metadata": {},
   "outputs": [
    {
     "name": "stdout",
     "output_type": "stream",
     "text": [
      "Accuracy LDA: 90.88%\n"
     ]
    }
   ],
   "source": [
    "from sklearn.discriminant_analysis import LinearDiscriminantAnalysis\n",
    "from sklearn.metrics import accuracy_score\n",
    "\n",
    "# Instanciar el modelo\n",
    "lda = LinearDiscriminantAnalysis()\n",
    "\n",
    "# Entrenar con datos normalizados\n",
    "lda.fit(X_train_norm, y_train)\n",
    "\n",
    "# Predecir\n",
    "y_pred_lda = lda.predict(X_test_norm)\n",
    "\n",
    "# Evaluar\n",
    "accuracy_lda = accuracy_score(y_test, y_pred_lda)\n",
    "print(f\"Accuracy LDA: {accuracy_lda * 100:.2f}%\")\n"
   ]
  },
  {
   "cell_type": "code",
   "execution_count": 24,
   "id": "37851174-c3db-4faa-9798-47a0fd316928",
   "metadata": {},
   "outputs": [
    {
     "name": "stdout",
     "output_type": "stream",
     "text": [
      "Accuracy LDA con PCA: 94.57%\n"
     ]
    }
   ],
   "source": [
    "#con PCA\n",
    "\n",
    "lda2 = LinearDiscriminantAnalysis()\n",
    "\n",
    "# Entrenar con datos normalizados\n",
    "lda2.fit(X_train_pca, y_train)\n",
    "\n",
    "# Predecir\n",
    "y_pred_lda2 = lda2.predict(X_test_pca)\n",
    "\n",
    "# Evaluar\n",
    "accuracy_lda2 = accuracy_score(y_test, y_pred_lda2)\n",
    "print(f\"Accuracy LDA con PCA: {accuracy_lda2 * 100:.2f}%\")\n"
   ]
  },
  {
   "cell_type": "raw",
   "id": "ffcfae8e-de81-4976-9132-2ba885fbd1c9",
   "metadata": {},
   "source": [
    "#con UMAP\n",
    "\n",
    "lda3 = LinearDiscriminantAnalysis()\n",
    "\n",
    "# Entrenar con datos normalizados\n",
    "lda3.fit(X_train_umap, y_train)\n",
    "\n",
    "# Predecir\n",
    "y_pred_lda3 = lda3.predict(X_test_umap)\n",
    "\n",
    "# Evaluar\n",
    "accuracy_lda3 = accuracy_score(y_test, y_pred_lda3)\n",
    "print(f\"Accuracy LDA con UMAP: {accuracy_lda3* 100:.2f}%\")\n"
   ]
  },
  {
   "cell_type": "markdown",
   "id": "3ccad7a6-8a4b-4101-a76f-b5b12939a5d0",
   "metadata": {},
   "source": [
    "# RESULTADOS"
   ]
  },
  {
   "cell_type": "code",
   "execution_count": 25,
   "id": "ce873811-abe3-4a00-9828-2b877c2f6d7b",
   "metadata": {},
   "outputs": [
    {
     "name": "stdout",
     "output_type": "stream",
     "text": [
      "Accuracy_LR : 92.45%\n",
      "Accuracy_RF : 86.37%\n",
      "Accuracy_KN : 90.75%\n",
      "Accuracy LDA: 90.88%\n",
      "Accuracy K-Means: 87.48%\n"
     ]
    }
   ],
   "source": [
    "print(f\"Accuracy_LR : {accuracy_LR * 100:.2f}%\")\n",
    "print(f\"Accuracy_RF : {accuracy_RF * 100:.2f}%\")\n",
    "print(f\"Accuracy_KN : {accuracy_KN * 100:.2f}%\")\n",
    "print(f\"Accuracy LDA: {accuracy_lda * 100:.2f}%\")\n",
    "print(f\"Accuracy K-Means: {accuracy_kmeans * 100:.2f}%\")"
   ]
  },
  {
   "cell_type": "code",
   "execution_count": 26,
   "id": "72bdf989-a3b7-4a8e-8bcb-12dcb738467c",
   "metadata": {},
   "outputs": [
    {
     "name": "stdout",
     "output_type": "stream",
     "text": [
      "Accuracy_LR con PCA: 84.94%\n",
      "Accuracy_RF con PCA: 75.41%\n",
      "Accuracy_KN con PCA: 74.95%\n",
      "Accuracy LDA con PCA: 94.57%\n"
     ]
    }
   ],
   "source": [
    "#con PCA\n",
    "\n",
    "print(f\"Accuracy_LR con PCA: {accuracy_LR_pca * 100:.2f}%\")\n",
    "print(f\"Accuracy_RF con PCA: {accuracy_RF_pca * 100:.2f}%\")\n",
    "print(f\"Accuracy_KN con PCA: {accuracy_KN_pca * 100:.2f}%\")\n",
    "print(f\"Accuracy LDA con PCA: {accuracy_lda2 * 100:.2f}%\")\n"
   ]
  },
  {
   "cell_type": "raw",
   "id": "07add55e-8585-4d35-8d49-4e684b6cc090",
   "metadata": {},
   "source": [
    "# con UMAP\n",
    "\n",
    "print(f\"Accuracy_LR (UMAP): {accuracy_LR_umap * 100:.2f}%\")\n",
    "print(f\"Accuracy_RF (UMAP): {accuracy_RF_umap * 100:.2f}%\")\n",
    "print(f\"Accuracy_KN (UMAP): {accuracy_KN_umap * 100:.2f}%\")\n",
    "print(f\"Accuracy LDA con UMAP: {accuracy_lda3* 100:.2f}%\")\n"
   ]
  }
 ],
 "metadata": {
  "kernelspec": {
   "display_name": "Python 3 (ipykernel)",
   "language": "python",
   "name": "python3"
  },
  "language_info": {
   "codemirror_mode": {
    "name": "ipython",
    "version": 3
   },
   "file_extension": ".py",
   "mimetype": "text/x-python",
   "name": "python",
   "nbconvert_exporter": "python",
   "pygments_lexer": "ipython3",
   "version": "3.9.21"
  }
 },
 "nbformat": 4,
 "nbformat_minor": 5
}
